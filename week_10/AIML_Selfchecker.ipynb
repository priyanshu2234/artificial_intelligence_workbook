{
 "cells": [
  {
   "cell_type": "markdown",
   "metadata": {},
   "source": [
    "# AIML Portfolio Self-check\n",
    "\n",
    "## TO USE THIS NOTEBOOK RUN EACH CELL ONE BY ONE\n",
    "### If you get errors (red boxes appear) fix them before you move on.\n",
    "\n",
    "<div class=\"alert alert-block alert-danger\"> <b>REMEMBER:</b> You need to make sure you are running this code within the virtual environment you created using 'AIenv'.<br> In Jupyter click on the kernel menu then change-kernel. In VSCode use the kernel selector in the top-right hand corner </div>"
   ]
  },
  {
   "cell_type": "markdown",
   "metadata": {},
   "source": [
    "### 1: Develop your aiml code in the next cell\n",
    "### and run the cell to write it to file"
   ]
  },
  {
   "cell_type": "code",
   "execution_count": 4,
   "metadata": {
    "tags": []
   },
   "outputs": [
    {
     "name": "stdout",
     "output_type": "stream",
     "text": [
      "Overwriting student.aiml\n"
     ]
    }
   ],
   "source": [
    "%%writefile \"student.aiml\"\n",
    "<aiml>\n",
    "  <!-- This is the main AIML file that defines how the bot responds to user inputs -->\n",
    "\n",
    "  <!-- Core definitions: Handles \"WHAT IS\" questions for key concepts -->\n",
    "  <category>\n",
    "    <pattern>WHAT IS *</pattern> <!-- Matches any question starting with \"WHAT IS\" followed by anything -->\n",
    "    <template>\n",
    "      <!-- Store the concept (the * part) in a variable called \"concept\" after converting to lowercase -->\n",
    "      <think><set name=\"concept\"><lowercase><star/></lowercase></set></think>\n",
    "      <!-- Check the value of \"concept\" and respond with the right definition -->\n",
    "      <condition name=\"concept\">\n",
    "        <li value=\"long-term knowledge\">Long-term knowledge is valid over a period of time.</li>\n",
    "        <li value=\"short-term knowledge\">Short-term knowledge is only valid for a particular situation or run of a programme.</li>\n",
    "        <li value=\"generic knowledge\">Generic knowledge is relevant to more than one application or domain.</li>\n",
    "        <li value=\"domain-specific knowledge\">Domain-specific knowledge is only applicable to one specific application or domain.</li>\n",
    "        <li value=\"a fact\">A fact is a statement which asserts that a relationship holds for an object-subject pair.</li>\n",
    "        <li value=\"a rule\">A rule is a statement that generates new knowledge by asserting that if one fact is true, then another is also true.</li>\n",
    "        <li value=\"a rule mybot\"><srai>WHAT IS a rule</srai></li> <!-- Redirects \"a rule mybot\" to \"WHAT IS a rule\" -->\n",
    "        <li value=\"the way that aiml allows variables in its long-term knowledge\">AIML has wildcards and srai for that purpose.</li>\n",
    "        <li value=\"the way aiml supports context during a conversation\">AIML supports context through the use of the that tag to refer to previous bot answers, and via setting variables such as topic.</li>\n",
    "      </condition>\n",
    "    </template>\n",
    "  </category>\n",
    "\n",
    "  <!-- Examples: Handles \"GIVE ME AN EXAMPLE OF\" questions -->\n",
    "  <category>\n",
    "    <pattern>GIVE ME AN EXAMPLE OF *</pattern> <!-- Matches requests for examples -->\n",
    "    <template>\n",
    "      <!-- Store the example topic in a variable called \"example\" after converting to lowercase -->\n",
    "      <think><set name=\"example\"><lowercase><star/></lowercase></set></think>\n",
    "      <!-- Check the value of \"example\" and provide the appropriate example -->\n",
    "      <condition name=\"example\">\n",
    "        <li value=\"long-term generic knowledge\">Generative AI frequently hallucinates and produces incorrect results.</li>\n",
    "        <li value=\"long-term domain-specific knowledge\">The formal specification of a particular machine learning algorithm.</li>\n",
    "        <li value=\"short-term generic knowledge\">The date today is an example as it may be useful in different contexts but only lasts 24 hours.</li>\n",
    "        <li value=\"short-term domain-specific knowledge\">The deadline for the submission of this portfolio.</li>\n",
    "        <li value=\"a fact\">Submissions for this module are run through automatic and effective plagiarism checks.</li>\n",
    "        <li value=\"a rule\">If submitsOthersWork(X) then commitsAssessmentOffence(X).</li>\n",
    "      </condition>\n",
    "    </template>\n",
    "  </category>\n",
    "\n",
    "  <!-- Context-sensitive questions: Answers \"WHY IS KNOWING THAT USEFUL\" based on previous bot responses -->\n",
    "  <category>\n",
    "    <pattern>WHY IS KNOWING THAT USEFUL</pattern>\n",
    "    <that>SUBMISSIONS FOR THIS MODULE ARE RUN THROUGH AUTOMATIC AND EFFECTIVE PLAGIARISM CHECKS</that> <!-- Matches if the bot's last response was about plagiarism checks -->\n",
    "    <template>To remind you that we take assessment offences very seriously.</template> <!-- Explains why the fact is useful -->\n",
    "  </category>\n",
    "\n",
    "  <category>\n",
    "    <pattern>WHY IS KNOWING THAT USEFUL</pattern>\n",
    "    <that>AIML HAS WILDCARDS AND SRAI FOR THAT PURPOSE</that> <!-- Matches if the bot's last response was about AIML wildcards -->\n",
    "    <template>Because it allows us to make statements that apply to classes of things or questions.</template> <!-- Explains why wildcards are useful -->\n",
    "  </category>\n",
    "\n",
    "  <category>\n",
    "    <pattern>WHY IS KNOWING THAT USEFUL</pattern>\n",
    "    <that>AIML SUPPORTS CONTEXT THROUGH THE USE OF THE THAT TAG TO REFER TO PREVIOUS BOT ANSWERS AND VIA SETTING VARIABLES SUCH AS TOPIC</that> <!-- Matches if the bot's last response was about AIML context -->\n",
    "    <template>Because some words like that and it can only be understood in the context of previous sentences.</template> <!-- Explains why context support is useful -->\n",
    "  </category>\n",
    "\n",
    "  <!-- Definition redirects: Converts alternative question formats to \"WHAT IS\" -->\n",
    "  <category>\n",
    "    <pattern>GIVE ME A DEFINITION OF *</pattern>\n",
    "    <template><srai>WHAT IS <star/></srai></template> <!-- Redirects to the \"WHAT IS\" pattern -->\n",
    "  </category>\n",
    "\n",
    "  <category>\n",
    "    <pattern>TELL ME ABOUT *</pattern>\n",
    "    <template><srai>WHAT IS <star/></srai></template> <!-- Redirects to the \"WHAT IS\" pattern -->\n",
    "  </category>\n",
    "\n",
    "  <!-- Example redirects: Converts alternative example requests to \"GIVE ME AN EXAMPLE OF\" -->\n",
    "  <category>\n",
    "    <pattern>ILLUSTRATE THE CONCEPT OF *</pattern>\n",
    "    <template><srai>GIVE ME AN EXAMPLE OF <star/></srai></template> <!-- Redirects to the example pattern -->\n",
    "  </category>\n",
    "\n",
    "  <!-- Specific AIML questions: Direct answers for specific AIML-related questions -->\n",
    "  <category>\n",
    "    <pattern>WHAT IS THE WAY THAT AIML ALLOWS VARIABLES IN ITS LONG TERM KNOWLEDGE</pattern>\n",
    "    <template>AIML has wildcards and srai for that purpose.</template> <!-- Direct answer about AIML variables -->\n",
    "  </category>\n",
    "\n",
    "  <category>\n",
    "    <pattern>WHAT IS THE WAY AIML SUPPORTS CONTEXT DURING A CONVERSATION</pattern>\n",
    "    <template>AIML supports context through the use of the that tag to refer to previous bot answers, and via setting variables such as topic.</template> <!-- Direct answer about AIML context -->\n",
    "  </category>\n",
    "\n",
    "  <!-- Specific MYBOT questions: Handles \"MYBOT\" variations for rules -->\n",
    "  <category>\n",
    "    <pattern>WHAT IS A RULE MYBOT</pattern>\n",
    "    <template><srai>WHAT IS a rule</srai></template> <!-- Redirects to the rule definition -->\n",
    "  </category>\n",
    "\n",
    "  <category>\n",
    "    <pattern>PLEASE MYBOT WHAT IS A RULE</pattern>\n",
    "    <template><srai>WHAT IS a rule</srai></template> <!-- Redirects to the rule definition -->\n",
    "  </category>\n",
    "\n",
    "  <category>\n",
    "    <pattern>MYBOT PLEASE GIVE ME A DEFINITION OF A RULE</pattern>\n",
    "    <template><srai>WHAT IS a rule</srai></template> <!-- Redirects to the rule definition -->\n",
    "  </category>\n",
    "\n",
    "  <!-- Additional example variations: Handles different ways to ask for examples -->\n",
    "  <category>\n",
    "    <pattern>PROVIDE AN EXAMPLE OF *</pattern>\n",
    "    <template><srai>GIVE ME AN EXAMPLE OF <star/></srai></template> <!-- Redirects to the example pattern -->\n",
    "  </category>\n",
    "\n",
    "  <category>\n",
    "    <pattern>PLEASE PROVIDE AN EXAMPLE OF *</pattern>\n",
    "    <template><srai>GIVE ME AN EXAMPLE OF <star/></srai></template> <!-- Redirects to the example pattern -->\n",
    "  </category>\n",
    "\n",
    "  <category>\n",
    "    <pattern>PLEASE GIVE ME AN EXAMPLE OF *</pattern>\n",
    "    <template><srai>GIVE ME AN EXAMPLE OF <star/></srai></template> <!-- Redirects to the example pattern -->\n",
    "  </category>\n",
    "\n",
    "  <!-- Catch-all for unhandled patterns: Tries to match specific example requests or passes input through -->\n",
    "  <category>\n",
    "    <pattern>*</pattern> <!-- Matches any input not caught by previous patterns -->\n",
    "    <template>\n",
    "      <!-- Store the input in a variable called \"input\" after converting to lowercase -->\n",
    "      <think><set name=\"input\"><lowercase><star/></lowercase></set></think>\n",
    "      <!-- Check the input and redirect to the appropriate example pattern if it matches -->\n",
    "      <condition name=\"input\">\n",
    "        <li value=\"provide an example of long-term generic knowledge\"><srai>GIVE ME AN EXAMPLE OF long-term generic knowledge</srai></li>\n",
    "        <li value=\"provide an example of long-term domain-specific knowledge\"><srai>GIVE ME AN EXAMPLE OF long-term domain-specific knowledge</srai></li>\n",
    "        <li value=\"provide an example of short-term generic knowledge\"><srai>GIVE ME AN EXAMPLE OF short-term generic knowledge</srai></li>\n",
    "        <li value=\"provide an example of short-term domain-specific knowledge\"><srai>GIVE ME AN EXAMPLE OF short-term domain-specific knowledge</srai></li>\n",
    "        <li value=\"provide an example of a rule\"><srai>GIVE ME AN EXAMPLE OF a rule</srai></li>\n",
    "        <li value=\"provide an example of a fact\"><srai>GIVE ME AN EXAMPLE OF a fact</srai></li>\n",
    "        <li><srai><star/></srai></li> <!-- If no match, pass the input through unchanged -->\n",
    "      </condition>\n",
    "    </template>\n",
    "  </category>\n",
    "\n",
    "</aiml>"
   ]
  },
  {
   "cell_type": "markdown",
   "metadata": {},
   "source": [
    "### 2: Run the next code cell to:\n",
    "- do some imports\n",
    "- create a marker object\n",
    "- load the 45 questions-response pairs"
   ]
  },
  {
   "cell_type": "code",
   "execution_count": 2,
   "metadata": {
    "tags": []
   },
   "outputs": [
    {
     "name": "stdout",
     "output_type": "stream",
     "text": [
      "\n"
     ]
    }
   ],
   "source": [
    "from aimlmarker import AIMLMarker\n",
    "\n",
    "my_marker = AIMLMarker()\n",
    "\n",
    "my_marker.load_questions()"
   ]
  },
  {
   "cell_type": "markdown",
   "metadata": {
    "tags": []
   },
   "source": [
    "### 3:Provided that runs ok, run the next cell to load and test your aiml"
   ]
  },
  {
   "cell_type": "code",
   "execution_count": 3,
   "metadata": {
    "tags": []
   },
   "outputs": [
    {
     "name": "stdout",
     "output_type": "stream",
     "text": [
      "Loading student.aiml...done (0.01 seconds)\n",
      "Score is 73\n",
      "Feedback is:\n",
      "45 question-response pairs read for testing your bot.\n",
      "AIML file student.aiml passes basic xml syntax checks.\n",
      "Passed aiml-specific syntax check.\n",
      "After reading your file the bot has 17 categories.\n",
      "You score 73 because your bot answered every question correctly using 17 categories.\n",
      "\n"
     ]
    }
   ],
   "source": [
    "my_marker.test_aiml()\n",
    "print(f\"Score is {my_marker.score}\")\n",
    "feedback = my_marker.feedback_str.replace(\"&lt;\", \"<\").replace(\"&gt;\", \">\")\n",
    "\n",
    "print(f\"Feedback is:\\n{feedback}\")"
   ]
  },
  {
   "cell_type": "markdown",
   "metadata": {},
   "source": [
    "### 4: Repeat step3 until there are no errors. \n",
    "### Then you can run the next cell to see what your bot responded for each question"
   ]
  },
  {
   "cell_type": "code",
   "execution_count": null,
   "metadata": {
    "tags": []
   },
   "outputs": [],
   "source": [
    "!cat \"student-responses.txt\""
   ]
  }
 ],
 "metadata": {
  "kernelspec": {
   "display_name": "base",
   "language": "python",
   "name": "python3"
  },
  "language_info": {
   "codemirror_mode": {
    "name": "ipython",
    "version": 3
   },
   "file_extension": ".py",
   "mimetype": "text/x-python",
   "name": "python",
   "nbconvert_exporter": "python",
   "pygments_lexer": "ipython3",
   "version": "3.12.4"
  }
 },
 "nbformat": 4,
 "nbformat_minor": 4
}
