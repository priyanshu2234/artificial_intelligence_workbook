{
 "cells": [
  {
   "cell_type": "markdown",
   "metadata": {},
   "source": [
    "<div class = \"alert alert-warning\" style=\"color:black\"> <h2>Activity 3.4: examining the effect of having less data.</h2>\n",
    "<p>The code in the cell below has a loop which trains a newtwork with different amounts of training data, and reports the training and test accuracy for each run. </p>\n",
    "<p>  Run the cell below and make note of the train and test accuracy for each different sized training data.</p>\n",
    " <h4>   Make a hypothesis that explains the  patterns of changing training and test scores you see, and be ready to discuss this in class.</h4></div>"
   ]
  },
  {
   "cell_type": "code",
   "execution_count": null,
   "metadata": {},
   "outputs": [],
   "source": [
    "# Find directory holding data depending on what machine you are on\n",
    "import socket\n",
    "import numpy as np\n",
    "if (socket.gethostname()=='csctcloud'): # on csctcloud\n",
    "    datapath = \"/home/common/datasets\"\n",
    "else:  # you will need to change this if you are using data on your local machine\n",
    "    datapath = \"/Users/j4-smith/GitHub/common/datasets/\"\n"
   ]
  },
  {
   "cell_type": "code",
   "execution_count": null,
   "metadata": {},
   "outputs": [],
   "source": [
    "### Only  Run this cell if you are using the ccstcloud server\n",
    "# example code to run on the server using a copy of the data that I have already downloaded and made available.\n",
    "# label is column 0\n",
    "# pixel values are from 0-255 so need to be scaled to 0-1\n",
    "\n",
    "test = np.genfromtxt(datapath + \"mnist/mnist_test.csv\", delimiter=\",\")\n",
    "X_test = test[1:, 1:785] / 255\n",
    "y_test = test[1:, 0]\n",
    "\n",
    "train = np.genfromtxt(datapath + \"mnist/mnist_train.csv\", delimiter=\",\")\n",
    "X_train = train[1:, 1:785] / 255\n",
    "y_train = train[1:, 0]\n",
    "\n",
    "print(\n",
    "    f\"X_train has {X_train.shape[0]} rows and {X_train.shape[1]} columns, y_train has {y_train.shape} entries\"\n",
    "    f\"X_test has shape {X_test.shape} y_test has {len(y_test)} entries.\"\n",
    ")"
   ]
  },
  {
   "cell_type": "code",
   "execution_count": null,
   "metadata": {},
   "outputs": [],
   "source": [
    "for trSetSize in (100, 600, 1000, 6000, 10000, 50000):\n",
    "    split = trSetSize / 60000\n",
    "    _, X_train_small, _, y_train_small = train_test_split(\n",
    "        X_train, y_train, test_size=split, stratify=y_train\n",
    "    )\n",
    "    smallMnistMLP = MLPClassifier(\n",
    "        hidden_layer_sizes=(16),\n",
    "        max_iter=25,\n",
    "        alpha=1e-4,\n",
    "        solver=\"sgd\",\n",
    "        verbose=0,\n",
    "        random_state=10,\n",
    "        learning_rate_init=0.1,\n",
    "    )\n",
    "\n",
    "    # put a loop of n runs here\n",
    "\n",
    "    with warnings.catch_warnings():\n",
    "        warnings.filterwarnings(\"ignore\", category=ConvergenceWarning, module=\"sklearn\")\n",
    "        smallMnistMLP.fit(X_train_small, y_train_small)\n",
    "    print(f\"With a training set of {trSetSize} examples\")\n",
    "    print(\n",
    "        f\"    Training set accuracy: {100*smallMnistMLP.score(X_train_small, y_train_small)}%\"\n",
    "    )\n",
    "    print(f\"    Test set accuracy: {100*smallMnistMLP.score(X_test, y_test)}%\")"
   ]
  },
  {
   "cell_type": "markdown",
   "metadata": {},
   "source": [
    "<div class = \"alert alert-warning\" style=\"color:black\"><h2> (Stretch) Activity 3.5: Gathering evidence for your hypothesis.</h2>\n",
    "<ol>\n",
    "    <li> Copy and paste the code from the previous cell into the cell below. </li>\n",
    "    <li> <b>Edit</b> the code by: <ul>\n",
    "        <li> Adding an array called results with 4 columns and 30 rows, initialised to zero (hint: np,zeros). </li>\n",
    "        <li> Adding a loop so that it runs the experiment for each training set size  5 times.</li>\n",
    "        <li> saving the training and test accuracy from each run into a seperate row in your new  array.</li>\n",
    "        <li> Store the training set size in results column 0, run number in column 1, training accuracy in column 2 and test accuracy in column 3.</li>\n",
    "     </ul>\n",
    "    <li> Use matplotlib to make a plot with training set size on the x-axis and accuracy on the y-axis</li>\n",
    "        <li> Plot your results as two different lines on your plot, with error bars for each.</li>\n",
    "        </ol>\n",
    "        <p> <b>  HINT: google is good to find code snippets to make plots with.</b></p.</div>"
   ]
  }
 ],
 "metadata": {
  "kernelspec": {
   "display_name": "Python 3 (ipykernel)",
   "language": "python",
   "name": "python3"
  },
  "language_info": {
   "codemirror_mode": {
    "name": "ipython",
    "version": 3
   },
   "file_extension": ".py",
   "mimetype": "text/x-python",
   "name": "python",
   "nbconvert_exporter": "python",
   "pygments_lexer": "ipython3",
   "version": "3.11.6"
  }
 },
 "nbformat": 4,
 "nbformat_minor": 4
}
