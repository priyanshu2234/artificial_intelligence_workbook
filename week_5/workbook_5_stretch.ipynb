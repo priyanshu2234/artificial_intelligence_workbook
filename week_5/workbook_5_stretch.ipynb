{
 "cells": [
  {
   "cell_type": "markdown",
   "metadata": {},
   "source": [
    "<div class = \"alert alert-warning\" style= \"color:black\">\n",
    "    <h2>Activity 5 (Stretch) : Understanding the role of pre-processing</h2>\n",
    "    This is an additional activity for those of you who have made rapid progress.\n",
    "</div>\n",
    "<div class = \"alert alert-warning\" style= \"color:black\">\n",
    "    <h3> Activity 5.1: Investigate the effect of differently scaled data</h3>\n",
    " <b>First</b> we will investigate what could happen if your measurements are in different units,  so one feature has values spanning a bigger range. <ul>\n",
    "        <li> Make a copy of the iris data and convert the second  feature from cm to mm, <br> \n",
    "        You can create the version of the data using code like: <code>  irisXscaled = copy.deepcopy(irisX)</code><br>\n",
    "        Then multiply the values in one column by ten like: <code> irisXscaled [:, 1:2] *=10 </code>\n",
    "    </li>\n",
    "   <li> Rerun kMeans on the new data (for your preferred number of clusters) and visualisation to see what difference it makes <br>\n",
    "       You will need to  select some of the columns and pass them into your graphing code in the same way you did for the irisX data.</li>\n",
    "    </ul>\n",
    "</div>"
   ]
  },
  {
   "cell_type": "code",
   "execution_count": null,
   "metadata": {},
   "outputs": [],
   "source": [
    "import copy\n",
    "# 1. put your code to change the data here (you could print the first few rows of data to see the effect of scaling)\n",
    "\n",
    "# 2. then put the four lines of code that create a kmeans object and run clustering   here - changing irisX to irisXscaled in three places\n",
    "\n",
    "# 3. then put your visualisation code here - but select x and y from irisXscaled instead of irisX"
   ]
  },
  {
   "cell_type": "markdown",
   "metadata": {},
   "source": [
    "<div class = \"alert alert-warning\" style= \"color:black\">\n",
    "<h3> Activity 5.2: Using preprocessing so all the features have equal importance in kMeans distance calculations. </h3> \n",
    "Read the explanation below then: <ol>\n",
    "    <li> <b>Add</b> the following lines to your code to get the preprocessed data.<br>\n",
    "     <code>  scaler = sklearn.preprocessing.MinMaxScaler()\n",
    "  scaler.fit(irisX)\n",
    "  irisXnormalised = scaler.transform(irisX)</code>\n",
    "    </li>\n",
    "    <li> <b>Rerun </b> the clustering then visualisation for this normalised data and observe the difference.\n",
    "    </ol>\n",
    "  </div>"
   ]
  },
  {
   "cell_type": "markdown",
   "metadata": {},
   "source": [
    " ### Explanation\n",
    " As well as classes for different types of models, sklearn provides many preprocessing classes.  \n",
    "Like models these implement a 'fit()' method,  but instead of `predict()' they have a 'transform()' method. \n",
    "\n",
    "A common way to make each feature equally important is to transform each one so that its values lie between 0 and 1.   \n",
    "Assuming as usual  we store our set of examples as rows in an array X, with a  column for each features.  \n",
    "For each individual feature j (column in X) it: \n",
    "- finds the highest  and lowest  values in column j of X\n",
    "- uses these to calculate  the *range* of values in the column range(X[,j]) = max(X[,j] - min(X[,j])  \n",
    "- subtracts the min(X[,j]) from each value so that they now all start from 0 and the highest value is now max(X[,j] - min(X[,j])\n",
    "- divide each value by the range(X[,j]) so the upper value  is now 1\n",
    "\n",
    "If you're feeling confident about numpy arrays and data slicing you could try implementing this your self using a loop over each column (X.shape[1]) and doing slicing making calls to numpy's min(), max() functions.  \n",
    "There's some clues here:  https://stackoverflow.com/questions/12701659/finding-range-of-a-numpy-array-elements"
   ]
  },
  {
   "cell_type": "code",
   "execution_count": null,
   "metadata": {},
   "outputs": [],
   "source": [
    "import copy, sklearn\n",
    "# 1. put your code to change the data here (you could print the first few rows of data to see the effect of normalising)\n",
    "\n",
    "# 2. then put the four lines of code that create a kmeans object and run clustering   here - changing irisX to irisXnormalised in two plces\n",
    "\n",
    "# 3. then put your visualisation code here - but select x and y from irisXnormalised instead of irisX"
   ]
  },
  {
   "cell_type": "markdown",
   "metadata": {},
   "source": [
    "**Decide for yourself which of the three sets of visualisation is clearer**  \n",
    "Having filled in and run the cell above,  run the cell below and answer the questions to check your understanding"
   ]
  },
  {
   "cell_type": "code",
   "execution_count": null,
   "metadata": {},
   "outputs": [],
   "source": [
    "import workbook5_mcq\n",
    "from IPython.display import display\n",
    "display(workbook5_mcq.Q5)\n",
    "display(workbook5_mcq.Q6)"
   ]
  }
 ],
 "metadata": {
  "language_info": {
   "name": "python"
  }
 },
 "nbformat": 4,
 "nbformat_minor": 2
}
